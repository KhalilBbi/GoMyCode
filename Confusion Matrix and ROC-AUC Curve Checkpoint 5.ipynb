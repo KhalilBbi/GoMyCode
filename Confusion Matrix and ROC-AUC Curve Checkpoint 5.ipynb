{
 "cells": [
  {
   "cell_type": "code",
   "execution_count": 9,
   "metadata": {
    "scrolled": false
   },
   "outputs": [
    {
     "name": "stdout",
     "output_type": "stream",
     "text": [
      "              precision    recall  f1-score   support\n",
      "\n",
      "          No       0.82      0.88      0.85       272\n",
      "         Yes       0.78      0.69      0.73       174\n",
      "\n",
      "    accuracy                           0.80       446\n",
      "   macro avg       0.80      0.78      0.79       446\n",
      "weighted avg       0.80      0.80      0.80       446\n",
      "\n"
     ]
    },
    {
     "data": {
      "image/png": "[encoded data removed]",
      "text/plain": [
       "<Figure size 432x288 with 2 Axes>"
      ]
     },
     "metadata": {
      "needs_background": "light"
     },
     "output_type": "display_data"
    }
   ],
   "source": [
    "import pandas as pd\n",
    "import numpy as np\n",
    "import seaborn as sns\n",
    "import matplotlib.pyplot as plt\n",
    "from sklearn import metrics\n",
    "from sklearn.metrics import (classification_report,roc_curve)\n",
    "from sklearn.linear_model import LogisticRegression\n",
    "from sklearn.model_selection import train_test_split\n",
    "from sklearn.preprocessing import LabelEncoder\n",
    "\n",
    "data = pd.read_csv(\"titanic.csv\")\n",
    "data = data.drop(\"Unnamed: 0\", axis = 1)\n",
    "\n",
    "for i in [\"Title\",\"Sex\"]:\n",
    "    lbl = LabelEncoder()\n",
    "    lbl.fit(data[i])\n",
    "    data[i] = lbl.transform(data[i])\n",
    "\n",
    "x = data[[\"Sex\",\"Title\",\"FamilySize\",\"Age\"]]\n",
    "y = data[\"Survived\"]\n",
    "\n",
    "lg = LogisticRegression()\n",
    "\n",
    "x_train,x_test,y_train,y_test = train_test_split(x,y,test_size = 0.5)\n",
    "lg.fit(x_train,y_train)\n",
    "prediction = lg.predict(x_test)\n",
    "\n",
    "mtrx = pd.crosstab(y_test,prediction, colnames =[\"Predicted Values\"])\n",
    "sns.heatmap(mtrx,annot = True)\n",
    "print(classification_report(y_test,prediction))"
   ]
  },
  {
   "cell_type": "markdown",
   "metadata": {},
   "source": [
    "<font color=\"red\" size =\"3\"> Validation of the model </font>\n",
    "\n",
    "This Confusion matrix tells us that this model has made <b> 260 correct predictions </b> for the case of non-Survival of certain individuals and <b> 120 correct predictions </b> for the case of the survival of certain individuals, and those numbers are significantly high compared to the uncorrect predictions that the model made such as <b> 39 uncorrect predictions </b> regarding the non-survival of certain individuals and <b> 53 uncorrect predictions </b> regarding the survival of certain individuals.\n",
    "\n",
    "The metrics got through the classification_report method also tells about the performance of the model such as an <b> accuracy of predictions of 0.79 </b> , a <b> precision of 0.82 </b> and a <b> recall of 0.86 </b> regarding the predictions of non-survival of certain individuals, a <b> precision of 0.75 </b> and a <b> recall of 0.69 </b> regarding the survival of certain individuals."
   ]
  },
  {
   "cell_type": "markdown",
   "metadata": {},
   "source": [
    "<font color=\"red\" size = \"3\"> ROC and AUC </font>\n",
    "\n",
    "To have a better interpretation on  the ploting of a Logisitic Regression we need to determine which <b> threshold </b> (limit in which we differentiate a category of value to another category of value) is the best. For this classification problem we use the <b> AUC-ROC Curve </b> which tells us how much a model is capable of <b> distinguishing classes </b> and in which ROC is a curve which traces the values of the <b> rate of false and true positives </b> and <b> AUC </b> is the <b> area under this curve </b> and it gives a <b> mesure of the performances </b> with all of the possibles thresholds, and more the value of AUC (Which is located between 1 and 0 (Which are included)) is <b> higher then better </b> is the model at predicting values :\n",
    "\n",
    "For example if a model has made only correct predictions then its AUC has a value of 1. <br/>\n",
    "For information the rate of False and True positives are respectively equivalent to :\n",
    "\n",
    "FPR = FP/(FP + TN) <br/>\n",
    "RTP/Sensitivity = TP/(TP + FN)\n",
    "\n",
    "Where FP is equivalent to False Positives, RN is equivalent to True Negatives, RP is equivalent to True Positives and FN is equivalent to False Negatives. <br/>\n",
    "Through this ROC graph we can determine the <b> best threshold </b> which is the closest one to the point (0,1)."
   ]
  },
  {
   "cell_type": "code",
   "execution_count": 10,
   "metadata": {},
   "outputs": [
    {
     "data": {
      "text/plain": [
       "<matplotlib.legend.Legend at 0x22399673d30>"
      ]
     },
     "execution_count": 10,
     "metadata": {},
     "output_type": "execute_result"
    },
    {
     "data": {
      "image/png": "[encoded data removed]",
      "text/plain": [
       "<Figure size 432x288 with 1 Axes>"
      ]
     },
     "metadata": {
      "needs_background": "light"
     },
     "output_type": "display_data"
    }
   ],
   "source": [
    "predictions_prob = lg.predict_proba(x_test)[::,1]\n",
    "lbl_encd = LabelEncoder()\n",
    "lbl_encd.fit(y_test)\n",
    "y_test =  lbl_encd.transform(y_test)\n",
    "fpr,tpr, n = metrics.roc_curve(y_test,predictions_prob)\n",
    "auc = metrics.roc_auc_score(y_test,predictions_prob)\n",
    "plt.plot(fpr,tpr,label=(\"AUC : \"+ str(auc)))\n",
    "plt.legend()"
   ]
  },
  {
   "cell_type": "markdown",
   "metadata": {},
   "source": [
    "For this particular ROC-AUC Curve we can say that the <b> optimal threshold </b> has been used to generate the closest point to the (0,1) point which in this case has coordinates of approximately <b> (0.2,0.8)</b>. And the value of AUC tells us that the model made <b> 80% approximtaly correct predictions </b> out of all his predictions."
   ]
  },
  {
   "cell_type": "code",
   "execution_count": null,
   "metadata": {},
   "outputs": [],
   "source": []
  }
 ],
 "metadata": {
  "kernelspec": {
   "display_name": "Python 3",
   "language": "python",
   "name": "python3"
  },
  "language_info": {
   "codemirror_mode": {
    "name": "ipython",
    "version": 3
   },
   "file_extension": ".py",
   "mimetype": "text/x-python",
   "name": "python",
   "nbconvert_exporter": "python",
   "pygments_lexer": "ipython3",
   "version": "3.8.3"
  }
 },
 "nbformat": 4,
 "nbformat_minor": 4
}
