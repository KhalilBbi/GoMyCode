{
 "cells": [
  {
   "cell_type": "code",
   "execution_count": 1,
   "metadata": {},
   "outputs": [
    {
     "name": "stdout",
     "output_type": "stream",
     "text": [
      "Valeur de debut : 2000\n",
      "Valeur de fin : 3201\n",
      "[2002, 2009, 2016, 2023, 2037, 2044, 2051, 2058, 2072, 2079, 2086, 2093, 2107, 2114, 2121, 2128, 2142, 2149, 2156, 2163, 2177, 2184, 2191, 2198, 2212, 2219, 2226, 2233, 2247, 2254, 2261, 2268, 2282, 2289, 2296, 2303, 2317, 2324, 2331, 2338, 2352, 2359, 2366, 2373, 2387, 2394, 2401, 2408, 2422, 2429, 2436, 2443, 2457, 2464, 2471, 2478, 2492, 2499, 2506, 2513, 2527, 2534, 2541, 2548, 2562, 2569, 2576, 2583, 2597, 2604, 2611, 2618, 2632, 2639, 2646, 2653, 2667, 2674, 2681, 2688, 2702, 2709, 2716, 2723, 2737, 2744, 2751, 2758, 2772, 2779, 2786, 2793, 2807, 2814, 2821, 2828, 2842, 2849, 2856, 2863, 2877, 2884, 2891, 2898, 2912, 2919, 2926, 2933, 2947, 2954, 2961, 2968, 2982, 2989, 2996, 3003, 3017, 3024, 3031, 3038, 3052, 3059, 3066, 3073, 3087, 3094, 3101, 3108, 3122, 3129, 3136, 3143, 3157, 3164, 3171, 3178, 3192, 3199]\n"
     ]
    }
   ],
   "source": [
    "#----------------------- QUESTION 1 ------------------------------------\n",
    "def multiple_spt():\n",
    "    try:\n",
    "        debut = int(input(\"Valeur de debut : \"))\n",
    "        fin  = int(input(\"Valeur de fin : \"))\n",
    "        liste = []\n",
    "        for i in range(debut,fin):\n",
    "            if((i % 7 == 0) and (i % 5 != 0)):\n",
    "                liste.append(i)\n",
    "        return liste\n",
    "    except:\n",
    "        return \"Entrez une valeur valide !\"\n",
    "\n",
    "print(multiple_spt())\n"
   ]
  },
  {
   "cell_type": "code",
   "execution_count": 2,
   "metadata": {},
   "outputs": [
    {
     "name": "stdout",
     "output_type": "stream",
     "text": [
      "Question 2\n",
      "Entrez votre nombre : 8\n",
      "40320\n"
     ]
    }
   ],
   "source": [
    "#----------------------- QUESTION 2 ------------------------------------\n",
    "\n",
    "def factorial() :\n",
    "    try:\n",
    "        nbr = int(input(\"Entrez votre nombre : \"))\n",
    "        x = 1\n",
    "        while (nbr != 0):\n",
    "            x *= nbr\n",
    "            nbr -= 1\n",
    "        return x\n",
    "    except:\n",
    "        return \"Veuillez entrer une valeur valide ! \"\n",
    "\n",
    "print(factorial())"
   ]
  },
  {
   "cell_type": "code",
   "execution_count": 3,
   "metadata": {},
   "outputs": [
    {
     "name": "stdout",
     "output_type": "stream",
     "text": [
      "Valeur : 8\n",
      "{1: 1, 2: 4, 3: 9, 4: 16, 5: 25, 6: 36, 7: 49, 8: 64}\n"
     ]
    }
   ],
   "source": [
    "#----------------------- QUESTION 3 ------------------------------------\n",
    "def fonction_qst():\n",
    "    try:\n",
    "        k = int(input(\"Valeur : \"))\n",
    "        dictionnaire = {}\n",
    "        for i in range(1,k+1):\n",
    "            dictionnaire[i] = i**2\n",
    "        return dictionnaire\n",
    "    except:\n",
    "        return \"Veuillez entrer une valeur valide ! \"\n",
    "\n",
    "print(fonction_qst())"
   ]
  },
  {
   "cell_type": "code",
   "execution_count": 4,
   "metadata": {},
   "outputs": [
    {
     "name": "stdout",
     "output_type": "stream",
     "text": [
      "Mot : kitten\n",
      "Valeur : 0\n",
      "itten\n"
     ]
    }
   ],
   "source": [
    "#----------------------- QUESTION 4 ------------------------------------\n",
    "def miss_str():\n",
    "    try:\n",
    "        mot = str(input(\"Mot : \"))\n",
    "        v = int(input(\"Valeur : \"))\n",
    "        try:\n",
    "            liste = list(mot)\n",
    "            del liste[v]\n",
    "            motf = \"\"\n",
    "            for i in liste:\n",
    "                motf += i\n",
    "            return motf\n",
    "        except:\n",
    "            return \"La valeur choisi est trop grande pour votre mot ou est négative.\"\n",
    "    except:\n",
    "        return \"Veuillez entrer un mot valide et/ou une valeur valide !\"\n",
    "\n",
    "print(miss_str())"
   ]
  },
  {
   "cell_type": "code",
   "execution_count": 5,
   "metadata": {},
   "outputs": [
    {
     "name": "stdout",
     "output_type": "stream",
     "text": [
      "[[1, 2], [3, 4]]\n"
     ]
    }
   ],
   "source": [
    "#----------------------- QUESTION 5 ------------------------------------\n",
    "import numpy as np\n",
    "\n",
    "def convert_array_list(arrays):\n",
    "    try:\n",
    "        liste_principale = []\n",
    "        for column in arrays:\n",
    "            liste_secondaire = []\n",
    "            for i in column:\n",
    "                liste_secondaire.append(i)\n",
    "            liste_principale.append(liste_secondaire)\n",
    "        return liste_principale\n",
    "    except:\n",
    "        return \"Veuillez entrer une array valide !\"\n",
    "\n",
    "\n",
    "arrays = np.array([[1, 2], [3, 4]])\n",
    "print(convert_array_list(arrays))"
   ]
  },
  {
   "cell_type": "code",
   "execution_count": 6,
   "metadata": {},
   "outputs": [
    {
     "name": "stdout",
     "output_type": "stream",
     "text": [
      "Entrez votre première array  (Seulement les valeurs délimitée par des virgules, exemple : 1,2,3):2,1,0\n",
      "Entrez votre seconde array (Seulement les valeurs délimitée par des virgules, exemple : 1,2,3):0,1,2\n",
      "Matrice covariante : \n",
      "[[ 1. -1.]\n",
      " [-1.  1.]]\n"
     ]
    }
   ],
   "source": [
    "#----------------------- QUESTION 6 ------------------------------------\n",
    "import numpy as np\n",
    "\n",
    "def iterate(l1,l2):\n",
    "    for i in l1:\n",
    "        try:\n",
    "            i = int(i)\n",
    "            l2.append(i)\n",
    "        except:\n",
    "            pass\n",
    "    return l2\n",
    "\n",
    "def covarriance_matrice():\n",
    "    try:\n",
    "        p = input(\"Entrez votre première array  \"+\"(Seulement les valeurs délimitée par des virgules, exemple : 1,2,3):\")\n",
    "        s = input(\"Entrez votre seconde array \"+\"(Seulement les valeurs délimitée par des virgules, exemple : 1,2,3):\")\n",
    "        p2 = p.split(\",\")\n",
    "        s2 = s.split(\",\")\n",
    "        p3 = []\n",
    "        s3 = []\n",
    "        p3 = iterate(p2,p3)\n",
    "        s3 = iterate(s2,s3)\n",
    "        z = np.stack((p3,s3), axis=0)\n",
    "        return (\"Matrice covariante : \\n\" +  str(np.cov(z)))\n",
    "\n",
    "    except:\n",
    "        return \"Veuillez n'entrer que des chiffres dans vos matrices et veuillez vérifier que vos matrices sont de même taille\"\n",
    "\n",
    "print(covarriance_matrice())"
   ]
  },
  {
   "cell_type": "code",
   "execution_count": 3,
   "metadata": {},
   "outputs": [
    {
     "name": "stdout",
     "output_type": "stream",
     "text": [
      "Sequence : 100,150,180\n",
      "[18, 22, 24]\n"
     ]
    }
   ],
   "source": [
    "#----------------------- QUESTION 7 ------------------------------------\n",
    "from math import *\n",
    "\n",
    "def formula():\n",
    "    try:\n",
    "        c = 50\n",
    "        h = 30\n",
    "        d = input(\"Sequence : \")\n",
    "        d_liste = d.split(\",\")\n",
    "        liste_f = []\n",
    "        for i in d_liste:\n",
    "            q = round(sqrt((2*c*int(i))/h))\n",
    "            liste_f.append(q)\n",
    "        return liste_f\n",
    "    except:\n",
    "        return \"Veuillez entrer un nombre entier ou une séquence de nombre entiers.\"\n",
    "\n",
    "print(formula())"
   ]
  }
 ],
 "metadata": {
  "kernelspec": {
   "display_name": "Python 3",
   "language": "python",
   "name": "python3"
  }
 },
 "nbformat": 4,
 "nbformat_minor": 4
}
